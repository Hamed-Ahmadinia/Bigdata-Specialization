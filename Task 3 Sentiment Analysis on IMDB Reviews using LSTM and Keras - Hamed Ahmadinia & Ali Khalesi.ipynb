{
 "cells": [
  {
   "cell_type": "markdown",
   "metadata": {},
   "source": [
    "### Project 2: \n",
    "#### Task 3: Sentiment Analysis on IMDB Reviews using LSTM and Keras - Hamed Ahmadinia"
   ]
  },
  {
   "cell_type": "code",
   "execution_count": 1,
   "metadata": {},
   "outputs": [],
   "source": [
    "# importing required packages such as pandas, numpy, corpus, stopwords, ...\n",
    "\n",
    "import pandas as pd    # to load dataset\n",
    "import numpy as np     # for mathematic equation\n",
    "from nltk.corpus import stopwords   # to get collection of stopwords\n",
    "from sklearn.model_selection import train_test_split       # for splitting dataset\n",
    "from tensorflow.keras.preprocessing.text import Tokenizer  # to encode text to int\n",
    "from tensorflow.keras.preprocessing.sequence import pad_sequences   # to do padding or truncating\n",
    "from tensorflow.keras.models import Sequential     # the model\n",
    "from tensorflow.keras.layers import Embedding, LSTM, Dense # layers of the architecture\n",
    "from tensorflow.keras.callbacks import ModelCheckpoint   # save model\n",
    "from tensorflow.keras.models import load_model   # load saved model\n",
    "import re"
   ]
  },
  {
   "cell_type": "code",
   "execution_count": 2,
   "metadata": {},
   "outputs": [
    {
     "name": "stdout",
     "output_type": "stream",
     "text": [
      "                                                  review sentiment\n",
      "0      One of the other reviewers has mentioned that ...  positive\n",
      "1      A wonderful little production. <br /><br />The...  positive\n",
      "2      I thought this was a wonderful way to spend ti...  positive\n",
      "3      Basically there's a family where a little boy ...  negative\n",
      "4      Petter Mattei's \"Love in the Time of Money\" is...  positive\n",
      "...                                                  ...       ...\n",
      "49995  I thought this movie did a down right good job...  positive\n",
      "49996  Bad plot, bad dialogue, bad acting, idiotic di...  negative\n",
      "49997  I am a Catholic taught in parochial elementary...  negative\n",
      "49998  I'm going to have to disagree with the previou...  negative\n",
      "49999  No one expects the Star Trek movies to be high...  negative\n",
      "\n",
      "[50000 rows x 2 columns]\n"
     ]
    }
   ],
   "source": [
    "# now we are previewing our dataset\n",
    "# we used notebooks.fi for running our assignments\n",
    "\n",
    "data = pd.read_csv('IMDB Dataset.csv')\n",
    "\n",
    "print(data)"
   ]
  },
  {
   "cell_type": "code",
   "execution_count": 3,
   "metadata": {},
   "outputs": [
    {
     "name": "stderr",
     "output_type": "stream",
     "text": [
      "[nltk_data] Downloading package stopwords to\n",
      "[nltk_data]     /Users/mostafaoraei/nltk_data...\n",
      "[nltk_data]   Package stopwords is already up-to-date!\n"
     ]
    },
    {
     "data": {
      "text/plain": [
       "True"
      ]
     },
     "execution_count": 3,
     "metadata": {},
     "output_type": "execute_result"
    }
   ],
   "source": [
    "# importing NLTK which comes with many corpora. here we import the nltk library for our further operations.\n",
    "# using \"nltk.download('stopwords')\" command we will be able to Download stopwords from NLTK library\n",
    "# \"Stop Word\" is a commonly used words in a sentence, usually a search engine is programmed to ignore this words (i.e. \"the\", \"a\", \"an\", \"of\", etc.)\n",
    "\n",
    "import nltk\n",
    "nltk.download('stopwords')"
   ]
  },
  {
   "cell_type": "code",
   "execution_count": 4,
   "metadata": {},
   "outputs": [],
   "source": [
    "# we declare english stop words\n",
    "\n",
    "english_stops = set(stopwords.words('english'))"
   ]
  },
  {
   "cell_type": "code",
   "execution_count": 5,
   "metadata": {},
   "outputs": [
    {
     "data": {
      "text/plain": [
       "{'a',\n",
       " 'about',\n",
       " 'above',\n",
       " 'after',\n",
       " 'again',\n",
       " 'against',\n",
       " 'ain',\n",
       " 'all',\n",
       " 'am',\n",
       " 'an',\n",
       " 'and',\n",
       " 'any',\n",
       " 'are',\n",
       " 'aren',\n",
       " \"aren't\",\n",
       " 'as',\n",
       " 'at',\n",
       " 'be',\n",
       " 'because',\n",
       " 'been',\n",
       " 'before',\n",
       " 'being',\n",
       " 'below',\n",
       " 'between',\n",
       " 'both',\n",
       " 'but',\n",
       " 'by',\n",
       " 'can',\n",
       " 'couldn',\n",
       " \"couldn't\",\n",
       " 'd',\n",
       " 'did',\n",
       " 'didn',\n",
       " \"didn't\",\n",
       " 'do',\n",
       " 'does',\n",
       " 'doesn',\n",
       " \"doesn't\",\n",
       " 'doing',\n",
       " 'don',\n",
       " \"don't\",\n",
       " 'down',\n",
       " 'during',\n",
       " 'each',\n",
       " 'few',\n",
       " 'for',\n",
       " 'from',\n",
       " 'further',\n",
       " 'had',\n",
       " 'hadn',\n",
       " \"hadn't\",\n",
       " 'has',\n",
       " 'hasn',\n",
       " \"hasn't\",\n",
       " 'have',\n",
       " 'haven',\n",
       " \"haven't\",\n",
       " 'having',\n",
       " 'he',\n",
       " 'her',\n",
       " 'here',\n",
       " 'hers',\n",
       " 'herself',\n",
       " 'him',\n",
       " 'himself',\n",
       " 'his',\n",
       " 'how',\n",
       " 'i',\n",
       " 'if',\n",
       " 'in',\n",
       " 'into',\n",
       " 'is',\n",
       " 'isn',\n",
       " \"isn't\",\n",
       " 'it',\n",
       " \"it's\",\n",
       " 'its',\n",
       " 'itself',\n",
       " 'just',\n",
       " 'll',\n",
       " 'm',\n",
       " 'ma',\n",
       " 'me',\n",
       " 'mightn',\n",
       " \"mightn't\",\n",
       " 'more',\n",
       " 'most',\n",
       " 'mustn',\n",
       " \"mustn't\",\n",
       " 'my',\n",
       " 'myself',\n",
       " 'needn',\n",
       " \"needn't\",\n",
       " 'no',\n",
       " 'nor',\n",
       " 'not',\n",
       " 'now',\n",
       " 'o',\n",
       " 'of',\n",
       " 'off',\n",
       " 'on',\n",
       " 'once',\n",
       " 'only',\n",
       " 'or',\n",
       " 'other',\n",
       " 'our',\n",
       " 'ours',\n",
       " 'ourselves',\n",
       " 'out',\n",
       " 'over',\n",
       " 'own',\n",
       " 're',\n",
       " 's',\n",
       " 'same',\n",
       " 'shan',\n",
       " \"shan't\",\n",
       " 'she',\n",
       " \"she's\",\n",
       " 'should',\n",
       " \"should've\",\n",
       " 'shouldn',\n",
       " \"shouldn't\",\n",
       " 'so',\n",
       " 'some',\n",
       " 'such',\n",
       " 't',\n",
       " 'than',\n",
       " 'that',\n",
       " \"that'll\",\n",
       " 'the',\n",
       " 'their',\n",
       " 'theirs',\n",
       " 'them',\n",
       " 'themselves',\n",
       " 'then',\n",
       " 'there',\n",
       " 'these',\n",
       " 'they',\n",
       " 'this',\n",
       " 'those',\n",
       " 'through',\n",
       " 'to',\n",
       " 'too',\n",
       " 'under',\n",
       " 'until',\n",
       " 'up',\n",
       " 've',\n",
       " 'very',\n",
       " 'was',\n",
       " 'wasn',\n",
       " \"wasn't\",\n",
       " 'we',\n",
       " 'were',\n",
       " 'weren',\n",
       " \"weren't\",\n",
       " 'what',\n",
       " 'when',\n",
       " 'where',\n",
       " 'which',\n",
       " 'while',\n",
       " 'who',\n",
       " 'whom',\n",
       " 'why',\n",
       " 'will',\n",
       " 'with',\n",
       " 'won',\n",
       " \"won't\",\n",
       " 'wouldn',\n",
       " \"wouldn't\",\n",
       " 'y',\n",
       " 'you',\n",
       " \"you'd\",\n",
       " \"you'll\",\n",
       " \"you're\",\n",
       " \"you've\",\n",
       " 'your',\n",
       " 'yours',\n",
       " 'yourself',\n",
       " 'yourselves'}"
      ]
     },
     "execution_count": 5,
     "metadata": {},
     "output_type": "execute_result"
    }
   ],
   "source": [
    "# checking english_stops\n",
    "\n",
    "english_stops"
   ]
  },
  {
   "cell_type": "code",
   "execution_count": 6,
   "metadata": {},
   "outputs": [
    {
     "name": "stdout",
     "output_type": "stream",
     "text": [
      "Reviews\n",
      "0        [one, reviewers, mentioned, watching, oz, epis...\n",
      "1        [a, wonderful, little, production, the, filmin...\n",
      "2        [i, thought, wonderful, way, spend, time, hot,...\n",
      "3        [basically, family, little, boy, jake, thinks,...\n",
      "4        [petter, mattei, love, time, money, visually, ...\n",
      "                               ...                        \n",
      "49995    [i, thought, movie, right, good, job, it, crea...\n",
      "49996    [bad, plot, bad, dialogue, bad, acting, idioti...\n",
      "49997    [i, catholic, taught, parochial, elementary, s...\n",
      "49998    [i, going, disagree, previous, comment, side, ...\n",
      "49999    [no, one, expects, star, trek, movies, high, a...\n",
      "Name: review, Length: 50000, dtype: object \n",
      "\n",
      "Sentiment\n",
      "0        1\n",
      "1        1\n",
      "2        1\n",
      "3        0\n",
      "4        1\n",
      "        ..\n",
      "49995    1\n",
      "49996    0\n",
      "49997    0\n",
      "49998    0\n",
      "49999    0\n",
      "Name: sentiment, Length: 50000, dtype: int64\n"
     ]
    }
   ],
   "source": [
    "# Now we need to load and clean our dataset\n",
    "# removing html tags, numbers, uppercase, and punctuations.\n",
    "# After that, we also encode the sentiments into integers (0 and 1).\n",
    "# Where 0 is for negative sentiments and 1 is for positive sentiments.\n",
    "\n",
    "def load_dataset():\n",
    "    df = pd.read_csv('IMDB Dataset.csv')\n",
    "    x_data = df['review']       # Reviews/Input\n",
    "    y_data = df['sentiment']    # Sentiment/Output\n",
    "\n",
    "    # PRE-PROCESS REVIEW\n",
    "    x_data = x_data.replace({'<.*?>': ''}, regex = True)          # remove html tag\n",
    "    x_data = x_data.replace({'[^A-Za-z]': ' '}, regex = True)     # remove non alphabet\n",
    "    x_data = x_data.apply(lambda review: [w for w in review.split() if w not in english_stops])  # remove stop words\n",
    "    x_data = x_data.apply(lambda review: [w.lower() for w in review])   # lower case\n",
    "    \n",
    "    # ENCODE SENTIMENT -> 0 & 1\n",
    "    y_data = y_data.replace('positive', 1)\n",
    "    y_data = y_data.replace('negative', 0)\n",
    "\n",
    "    return x_data, y_data\n",
    "\n",
    "x_data, y_data = load_dataset()\n",
    "\n",
    "print('Reviews')\n",
    "print(x_data, '\\n')\n",
    "print('Sentiment')\n",
    "print(y_data)"
   ]
  },
  {
   "cell_type": "code",
   "execution_count": 7,
   "metadata": {},
   "outputs": [
    {
     "name": "stdout",
     "output_type": "stream",
     "text": [
      "Train Set\n",
      "35380    [i, downloaded, movie, yesterday, internet, si...\n",
      "19850    [movies, like, need, sequels, part, advantage,...\n",
      "42505    [routine, suspense, yarn, sociopath, dillon, g...\n",
      "14759    [i, love, way, game, make, literally, jump, se...\n",
      "46800    [a, family, terrible, people, must, remain, ho...\n",
      "                               ...                        \n",
      "39830    [i, understand, anytime, someone, show, one, l...\n",
      "38202    [why, films, especially, american, like, meatb...\n",
      "22877    [for, like, stand, comedians, must, heard, geo...\n",
      "8605     [after, seeing, film, months, ago, keeps, jump...\n",
      "11891    [what, say, grainy, poorly, filmed, mm, stag, ...\n",
      "Name: review, Length: 40000, dtype: object \n",
      "\n",
      "49719    [i, absolutely, adore, film, lady, columnist, ...\n",
      "47387    [wealthy, horse, ranchers, buenos, aires, long...\n",
      "30494    [this, movie, sucked, plain, simple, okay, bas...\n",
      "31487    [take, famous, play, director, ideas, using, c...\n",
      "17230    [i, impressed, story, it, typical, predatory, ...\n",
      "                               ...                        \n",
      "49163    [the, return, one, movies, niche, group, peopl...\n",
      "49273    [karloff, lugosi, together, this, one, films, ...\n",
      "29986    [i, one, think, king, great, writer, books, fi...\n",
      "22485    [my, friends, i, walked, minutes, first, after...\n",
      "25122    [i, thought, interplay, crystal, devito, great...\n",
      "Name: review, Length: 10000, dtype: object \n",
      "\n",
      "Test Set\n",
      "35380    0\n",
      "19850    0\n",
      "42505    0\n",
      "14759    1\n",
      "46800    0\n",
      "        ..\n",
      "39830    0\n",
      "38202    1\n",
      "22877    1\n",
      "8605     1\n",
      "11891    0\n",
      "Name: sentiment, Length: 40000, dtype: int64 \n",
      "\n",
      "49719    1\n",
      "47387    0\n",
      "30494    0\n",
      "31487    0\n",
      "17230    1\n",
      "        ..\n",
      "49163    0\n",
      "49273    1\n",
      "29986    0\n",
      "22485    0\n",
      "25122    1\n",
      "Name: sentiment, Length: 10000, dtype: int64\n"
     ]
    }
   ],
   "source": [
    "# Split data set into 80% of Training and 20% of Testing set using \"train_test_split\" method from Scikit-Learn.\n",
    "# Checking Test and traning sets\n",
    "\n",
    "x_train, x_test, y_train, y_test = train_test_split(x_data, y_data, test_size = 0.2)\n",
    "\n",
    "print('Train Set')\n",
    "print(x_train, '\\n')\n",
    "print(x_test, '\\n')\n",
    "print('Test Set')\n",
    "print(y_train, '\\n')\n",
    "print(y_test)"
   ]
  },
  {
   "cell_type": "code",
   "execution_count": 8,
   "metadata": {},
   "outputs": [],
   "source": [
    "# defining a function to have maximum review length.\n",
    "# here we calculate the mean of all reviews length\n",
    "\n",
    "def get_max_length():\n",
    "    review_length = []\n",
    "    for review in x_train:\n",
    "        review_length.append(len(review))\n",
    "\n",
    "    return int(np.ceil(np.mean(review_length)))"
   ]
  },
  {
   "cell_type": "markdown",
   "metadata": {},
   "source": [
    "<hr>\n",
    "\n",
    "### Tokenize and Pad/Truncate Reviews\n",
    "A Neural Network only accepts numeric data, so we need to encode the reviews. I use <b>tensorflow.keras.preprocessing.text.Tokenizer</b> to encode the reviews into integers, where each unique word is automatically indexed (using <b>fit_on_texts</b> method) based on <b>x_train</b>. <br>\n",
    "<b>x_train</b> and <b>x_test</b> is converted into integers using <b>texts_to_sequences</b> method.\n",
    "\n",
    "Each reviews has a different length, so we need to add padding (by adding 0) or truncating the words to the same length (in this case, it is the mean of all reviews length) using <b>tensorflow.keras.preprocessing.sequence.pad_sequences</b>.\n",
    "\n",
    "\n",
    "<b>post</b>, pad or truncate the words in the back of a sentence<br>\n",
    "<b>pre</b>, pad or truncate the words in front of a sentence"
   ]
  },
  {
   "cell_type": "code",
   "execution_count": 9,
   "metadata": {},
   "outputs": [
    {
     "name": "stdout",
     "output_type": "stream",
     "text": [
      "Encoded X Train\n",
      " [[    1 18147     3 ...     0     0     0]\n",
      " [   28     6   266 ...     0     0     0]\n",
      " [ 2428   652  9013 ...     0     0     0]\n",
      " ...\n",
      " [  206     6   676 ...     0     0     0]\n",
      " [  306   222     4 ...  4891    35     1]\n",
      " [  105    57  5297 ...     0     0     0]] \n",
      "\n",
      "Encoded X Test\n",
      " [[    1   329  6067 ...     0     0     0]\n",
      " [ 2890  1579 19742 ...     0     0     0]\n",
      " [    8     3  1973 ...     0     0     0]\n",
      " ...\n",
      " [    1     5    31 ...     0     0     0]\n",
      " [  217   257     1 ...     0     0     0]\n",
      " [    1    99  8571 ...     0     0     0]] \n",
      "\n",
      "Maximum review length:  130\n"
     ]
    }
   ],
   "source": [
    "# in Neural Network we can use only numeric data, that is why we need to encode the reviews.\n",
    "# we encode the reviews into integers, where each unique word is automatically indexed based on x_train.\n",
    "# converting x_train and x_test into integers is the next step.\n",
    "\n",
    "token = Tokenizer(lower=False)  \n",
    "token.fit_on_texts(x_train)\n",
    "x_train = token.texts_to_sequences(x_train)\n",
    "x_test = token.texts_to_sequences(x_test)\n",
    "\n",
    "max_length = get_max_length()\n",
    "\n",
    "x_train = pad_sequences(x_train, maxlen=max_length, padding='post', truncating='post')\n",
    "x_test = pad_sequences(x_test, maxlen=max_length, padding='post', truncating='post')\n",
    "\n",
    "total_words = len(token.word_index) + 1   # add 1 because of 0 padding\n",
    "\n",
    "print('Encoded X Train\\n', x_train, '\\n')\n",
    "print('Encoded X Test\\n', x_test, '\\n')\n",
    "print('Maximum review length: ', max_length)"
   ]
  },
  {
   "cell_type": "code",
   "execution_count": 10,
   "metadata": {},
   "outputs": [
    {
     "name": "stdout",
     "output_type": "stream",
     "text": [
      "Model: \"sequential\"\n",
      "_________________________________________________________________\n",
      " Layer (type)                Output Shape              Param #   \n",
      "=================================================================\n",
      " embedding (Embedding)       (None, 130, 32)           2953824   \n",
      "                                                                 \n",
      " lstm (LSTM)                 (None, 64)                24832     \n",
      "                                                                 \n",
      " dense (Dense)               (None, 1)                 65        \n",
      "                                                                 \n",
      "=================================================================\n",
      "Total params: 2,978,721\n",
      "Trainable params: 2,978,721\n",
      "Non-trainable params: 0\n",
      "_________________________________________________________________\n",
      "None\n"
     ]
    }
   ],
   "source": [
    "# now we bulilt Architecture/Model\n",
    "\n",
    "# Embedding size for each token\n",
    "# Embedding Layer creates word vectors of each word in the <i>word_index</i> and group words that are related or have similar meaning by analyzing other words around them\n",
    "\n",
    "EMBED_DIM = 32 \n",
    "\n",
    "# Long Short-Term Memory layer = LSTM\n",
    "# to make a decision to keep or throw away data by considering the current input, previous output, and previous memory. There are some important components in LSTM\n",
    "\n",
    "LSTM_OUT = 64\n",
    "\n",
    "# The Sequential model\n",
    "model = Sequential()\n",
    "model.add(Embedding(total_words, EMBED_DIM, input_length = max_length))\n",
    "model.add(LSTM(LSTM_OUT))\n",
    "\n",
    "# Dense Layer: compute the input with the weight matrix and bias (optional), and using an activation function. I use Sigmoid activation function for this work because the output is only 0 or 1.\n",
    "\n",
    "model.add(Dense(1, activation='sigmoid'))\n",
    "\n",
    "# The optimizer is Adam and the loss function is Binary Crossentropy because again the output is only 0 and 1, which is a binary number.\n",
    "model.compile(optimizer = 'adam', loss = 'binary_crossentropy', metrics = ['accuracy'])\n",
    "\n",
    "# checking our model \n",
    "print(model.summary())"
   ]
  },
  {
   "cell_type": "code",
   "execution_count": 11,
   "metadata": {},
   "outputs": [],
   "source": [
    "# ModelCheckpoint callback is used in conjunction with training using model.fit() to save a model or weights (in a checkpoint file) at some interval.\n",
    "# so the model or weights can be loaded later to continue the training from the state saved.\n",
    "\n",
    "checkpoint = ModelCheckpoint(\n",
    "    'models/LSTM.h5',\n",
    "    monitor='accuracy',\n",
    "    save_best_only=True,\n",
    "    verbose=1\n",
    ")"
   ]
  },
  {
   "cell_type": "code",
   "execution_count": 12,
   "metadata": {},
   "outputs": [
    {
     "name": "stdout",
     "output_type": "stream",
     "text": [
      "Epoch 1/5\n",
      "313/313 [==============================] - ETA: 0s - loss: 0.4537 - accuracy: 0.7579\n",
      "Epoch 1: accuracy improved from -inf to 0.75788, saving model to models/LSTM.h5\n",
      "313/313 [==============================] - 56s 171ms/step - loss: 0.4537 - accuracy: 0.7579\n",
      "Epoch 2/5\n",
      "313/313 [==============================] - ETA: 0s - loss: 0.2027 - accuracy: 0.9274\n",
      "Epoch 2: accuracy improved from 0.75788 to 0.92743, saving model to models/LSTM.h5\n",
      "313/313 [==============================] - 54s 174ms/step - loss: 0.2027 - accuracy: 0.9274\n",
      "Epoch 3/5\n",
      "313/313 [==============================] - ETA: 0s - loss: 0.1209 - accuracy: 0.9628\n",
      "Epoch 3: accuracy improved from 0.92743 to 0.96283, saving model to models/LSTM.h5\n",
      "313/313 [==============================] - 53s 169ms/step - loss: 0.1209 - accuracy: 0.9628\n",
      "Epoch 4/5\n",
      "313/313 [==============================] - ETA: 0s - loss: 0.0844 - accuracy: 0.9751\n",
      "Epoch 4: accuracy improved from 0.96283 to 0.97508, saving model to models/LSTM.h5\n",
      "313/313 [==============================] - 55s 177ms/step - loss: 0.0844 - accuracy: 0.9751\n",
      "Epoch 5/5\n",
      "313/313 [==============================] - ETA: 0s - loss: 0.0519 - accuracy: 0.9864\n",
      "Epoch 5: accuracy improved from 0.97508 to 0.98640, saving model to models/LSTM.h5\n",
      "313/313 [==============================] - 55s 176ms/step - loss: 0.0519 - accuracy: 0.9864\n"
     ]
    },
    {
     "data": {
      "text/plain": [
       "<keras.callbacks.History at 0x7fb741f02be0>"
      ]
     },
     "execution_count": 12,
     "metadata": {},
     "output_type": "execute_result"
    }
   ],
   "source": [
    "# now, we train the model for 5 epochs, in batches of 128 samples,on data stored in the Numpy array X_train,and labels stored in the Numpy array y_train.\n",
    "# we used callback called checkpoint to save the model locally for every epoch if its accuracy improved from the previous epoch.\n",
    "\n",
    "model.fit(x_train, y_train, batch_size = 128, epochs = 5, callbacks=[checkpoint])"
   ]
  },
  {
   "cell_type": "code",
   "execution_count": 13,
   "metadata": {},
   "outputs": [
    {
     "name": "stdout",
     "output_type": "stream",
     "text": [
      "Correct Prediction: 8653\n",
      "Wrong Prediction: 1347\n",
      "Accuracy: 86.53\n"
     ]
    }
   ],
   "source": [
    "# now we need to test efficency of our model.\n",
    "# predicting the sentiment using our x_test data and comparing the predictions with y_test data as expected output\n",
    "\n",
    "y_pred = (model.predict(x_test) > 0.5).astype(\"int32\")\n",
    "\n",
    "true = 0\n",
    "for i, y in enumerate(y_test):\n",
    "    if y == y_pred[i]:\n",
    "        true += 1\n",
    "\n",
    "print('Correct Prediction: {}'.format(true))\n",
    "print('Wrong Prediction: {}'.format(len(y_pred) - true))\n",
    "print('Accuracy: {}'.format(true/len(y_pred)*100))\n",
    "print(\"The accuracy of our model is very good!\")"
   ]
  },
  {
   "cell_type": "code",
   "execution_count": 14,
   "metadata": {},
   "outputs": [],
   "source": [
    "# now, we load saved model and use it to predict a movie review statement's sentiment (positive or negative).\n",
    "\n",
    "loaded_model = load_model('models/LSTM.h5')"
   ]
  },
  {
   "cell_type": "code",
   "execution_count": 15,
   "metadata": {},
   "outputs": [
    {
     "data": {
      "text/plain": [
       "review       One of the other reviewers has mentioned that ...\n",
       "sentiment                                             positive\n",
       "Name: 0, dtype: object"
      ]
     },
     "execution_count": 15,
     "metadata": {},
     "output_type": "execute_result"
    }
   ],
   "source": [
    "# iloc() function enables us to select a particular cell of the dataset.\n",
    "# it helps us select a value that belongs to a particular row or column from a set of values of a data frame or dataset.\n",
    "# checking a review as an input to be predicted\n",
    "\n",
    "data.iloc[0,:]"
   ]
  },
  {
   "cell_type": "code",
   "execution_count": 16,
   "metadata": {},
   "outputs": [
    {
     "name": "stdout",
     "output_type": "stream",
     "text": [
      "Movie Review: Bad plot, bad dialogue, bad acting, idiotic\n"
     ]
    }
   ],
   "source": [
    "# checking the review of a movie\n",
    "\n",
    "review = str(input('Movie Review: '))"
   ]
  },
  {
   "cell_type": "code",
   "execution_count": 21,
   "metadata": {},
   "outputs": [
    {
     "name": "stdout",
     "output_type": "stream",
     "text": [
      "Cleaned:  Bad plot bad dialogue bad acting idiotic\n",
      "Filtered:  ['bad plot bad dialogue bad acting idiotic']\n"
     ]
    }
   ],
   "source": [
    "# The input must be pre processed before it is passed to the model to be predicted\n",
    "# re. compile() method: We can combine a regular expression pattern into pattern objects, which can be used for pattern matching. \n",
    "# It also helps to search a pattern again without rewriting it.\n",
    "\n",
    "regex = re.compile(r'[^a-zA-Z\\s]')\n",
    "review = regex.sub('', review)\n",
    "print('Cleaned: ', review)\n",
    "\n",
    "words = review.split(' ')\n",
    "filtered = [w for w in words if w not in english_stops]\n",
    "filtered = ' '.join(filtered)\n",
    "filtered = [filtered.lower()]\n",
    "\n",
    "print('Filtered: ', filtered)"
   ]
  },
  {
   "cell_type": "code",
   "execution_count": 22,
   "metadata": {},
   "outputs": [
    {
     "name": "stdout",
     "output_type": "stream",
     "text": [
      "[[  18   41   18  315   18   44 2883    0    0    0    0    0    0    0\n",
      "     0    0    0    0    0    0    0    0    0    0    0    0    0    0\n",
      "     0    0    0    0    0    0    0    0    0    0    0    0    0    0\n",
      "     0    0    0    0    0    0    0    0    0    0    0    0    0    0\n",
      "     0    0    0    0    0    0    0    0    0    0    0    0    0    0\n",
      "     0    0    0    0    0    0    0    0    0    0    0    0    0    0\n",
      "     0    0    0    0    0    0    0    0    0    0    0    0    0    0\n",
      "     0    0    0    0    0    0    0    0    0    0    0    0    0    0\n",
      "     0    0    0    0    0    0    0    0    0    0    0    0    0    0\n",
      "     0    0    0    0]]\n"
     ]
    }
   ],
   "source": [
    "# again, Once again, we need to tokenize and encode the words.\n",
    "# we used the tokenizer which was previously declared because we want to encode the words based on words that are known by the model.\n",
    "\n",
    "tokenize_words = token.texts_to_sequences(filtered)\n",
    "tokenize_words = pad_sequences(tokenize_words, maxlen=max_length, padding='post', truncating='post')\n",
    "\n",
    "# checking tokenize_words\n",
    "print(tokenize_words)"
   ]
  },
  {
   "cell_type": "code",
   "execution_count": 23,
   "metadata": {},
   "outputs": [
    {
     "name": "stdout",
     "output_type": "stream",
     "text": [
      "[[0.00288785]]\n"
     ]
    }
   ],
   "source": [
    "# checking confidence score of the review statement\n",
    "\n",
    "result = loaded_model.predict(tokenize_words)\n",
    "print(\"confidence score of the review statement\", result)"
   ]
  },
  {
   "cell_type": "code",
   "execution_count": 24,
   "metadata": {},
   "outputs": [
    {
     "name": "stdout",
     "output_type": "stream",
     "text": [
      "negative\n"
     ]
    }
   ],
   "source": [
    "# If the confidence score is close to 0, then the statement is negative. \n",
    "# if the confidence score is close to 1, then the statement is positive.\n",
    "# we used a threshold of 0.7 to determine which confidence score is positive and negative.\n",
    "# so if it is equal or greater than 0.7, it is positive and if it is less than 0.7, it is negative.\n",
    "\n",
    "if result >= 0.7:\n",
    "    print('positive')\n",
    "else:\n",
    "    print('negative')"
   ]
  },
  {
   "cell_type": "markdown",
   "metadata": {},
   "source": [
    "## Building a Recurrent Neural Network"
   ]
  },
  {
   "cell_type": "code",
   "execution_count": 42,
   "metadata": {},
   "outputs": [
    {
     "name": "stdout",
     "output_type": "stream",
     "text": [
      "Epoch 1/10\n",
      "400/400 [==============================] - 125s 304ms/step - loss: 0.3713 - accuracy: 0.8307 - val_loss: 0.2907 - val_accuracy: 0.8771\n",
      "Epoch 2/10\n",
      "400/400 [==============================] - 119s 297ms/step - loss: 0.1569 - accuracy: 0.9433 - val_loss: 0.3035 - val_accuracy: 0.8812\n",
      "Epoch 3/10\n",
      "400/400 [==============================] - 121s 303ms/step - loss: 0.0667 - accuracy: 0.9791 - val_loss: 0.3873 - val_accuracy: 0.8739\n",
      "Epoch 4/10\n",
      "400/400 [==============================] - 152s 379ms/step - loss: 0.0320 - accuracy: 0.9899 - val_loss: 0.4988 - val_accuracy: 0.8712\n",
      "Epoch 5/10\n",
      "400/400 [==============================] - 144s 360ms/step - loss: 0.0158 - accuracy: 0.9949 - val_loss: 0.6777 - val_accuracy: 0.8619\n",
      "Epoch 6/10\n",
      "400/400 [==============================] - 140s 350ms/step - loss: 0.0170 - accuracy: 0.9945 - val_loss: 0.5975 - val_accuracy: 0.8628\n",
      "Epoch 7/10\n",
      "400/400 [==============================] - 144s 359ms/step - loss: 0.0146 - accuracy: 0.9954 - val_loss: 0.7115 - val_accuracy: 0.8571\n",
      "Epoch 8/10\n",
      "400/400 [==============================] - 141s 353ms/step - loss: 0.0069 - accuracy: 0.9976 - val_loss: 0.7679 - val_accuracy: 0.8638\n",
      "Epoch 9/10\n",
      "400/400 [==============================] - 138s 346ms/step - loss: 0.0052 - accuracy: 0.9985 - val_loss: 0.7987 - val_accuracy: 0.8676\n",
      "Epoch 10/10\n",
      "400/400 [==============================] - 152s 380ms/step - loss: 0.0039 - accuracy: 0.9986 - val_loss: 0.8577 - val_accuracy: 0.8650\n"
     ]
    }
   ],
   "source": [
    "# importing required packages\n",
    "\n",
    "from keras.layers import Input, Dropout , Activation, GRU, Flatten\n",
    "from keras.layers import Bidirectional, GlobalMaxPool1D\n",
    "from keras.models import Model\n",
    "from keras.layers import Convolution1D\n",
    "from keras import initializers, regularizers, constraints, optimizers, layers\n",
    "\n",
    "# Set embed_size to 128, which is the embedding size of each word\n",
    "\n",
    "embed_size = 128\n",
    "\n",
    "next_model = Sequential()\n",
    "next_model.add(Embedding(total_words, embed_size, input_length = max_length))\n",
    "next_model.add(Bidirectional(LSTM(32, return_sequences = True)))\n",
    "next_model.add(GlobalMaxPool1D())\n",
    "next_model.add(Dense(20, activation=\"relu\"))\n",
    "next_model.add(Dropout(0.05))\n",
    "next_model.add(Dense(1, activation=\"sigmoid\"))\n",
    "next_model.compile(loss='binary_crossentropy', optimizer='adam', metrics=['accuracy'])\n",
    "\n",
    "# setting number of batch as 100\n",
    "# The batch size is a hyperparameter that defines the number of samples to work through before updating the internal model parameters.\n",
    "\n",
    "batch_size = 100\n",
    "\n",
    "# setting number of epochs to 10\n",
    "# The number of epochs is a hyperparameter that defines the number times that the learning algorithm will work through the entire training dataset.\n",
    "\n",
    "epochs = 10\n",
    "\n",
    "# fitting next model\n",
    "next_model_history = next_model.fit(x_train,y_train, validation_data = (x_test, y_test), batch_size=batch_size, epochs=epochs)\n"
   ]
  },
  {
   "cell_type": "code",
   "execution_count": 43,
   "metadata": {},
   "outputs": [
    {
     "data": {
      "image/png": "[encoded data removed]",
      "text/plain": [
       "<Figure size 432x288 with 1 Axes>"
      ]
     },
     "metadata": {},
     "output_type": "display_data"
    }
   ],
   "source": [
    "# importing matplotlip for visualizing\n",
    "import matplotlib.pyplot as plt\n",
    "\n",
    "# Generating a new figure\n",
    "plt.figure()\n",
    "\n",
    "# summarize history for accuracy along with traning\n",
    "plt.plot(next_model_history.history[\"accuracy\"], label = \"Train\")\n",
    "\n",
    "# summarize history for val_accuracy along with test\n",
    "plt.plot(next_model_history.history[\"val_accuracy\"], label = \"Test\")\n",
    "\n",
    "# setting plot title\n",
    "plt.title(\"Accuracy\")\n",
    "\n",
    "# setting plot ylable\n",
    "plt.ylabel(\"Accuracy\")\n",
    "\n",
    "# setting plot xlable\n",
    "plt.xlabel(\"Epochs\")\n",
    "\n",
    "# Placing a legend on the Axes\n",
    "plt.legend()\n",
    "\n",
    "# Display all open figures\n",
    "plt.show()"
   ]
  },
  {
   "cell_type": "code",
   "execution_count": 44,
   "metadata": {},
   "outputs": [
    {
     "data": {
      "image/png": "[encoded data removed]",
      "text/plain": [
       "<Figure size 432x288 with 1 Axes>"
      ]
     },
     "metadata": {},
     "output_type": "display_data"
    }
   ],
   "source": [
    "# Generating a new figure\n",
    "plt.figure()\n",
    "\n",
    "# summarize history for loss along with traning\n",
    "plt.plot(next_model_history.history[\"loss\"], label = \"Train\")\n",
    "\n",
    "# summarize history for val_loss along with test\n",
    "plt.plot(next_model_history.history[\"val_loss\"], label = \"Test\")\n",
    "\n",
    "# setting plot title\n",
    "plt.title(\"Loss\")\n",
    "\n",
    "# setting plot ylabble\n",
    "plt.ylabel(\"Loss\")\n",
    "\n",
    "# setting plot xlable\n",
    "plt.xlabel(\"Epochs\")\n",
    "\n",
    "# Placing a legend on the Axes\n",
    "plt.legend()\n",
    "\n",
    "# Display all open figures\n",
    "plt.show()"
   ]
  },
  {
   "cell_type": "code",
   "execution_count": 45,
   "metadata": {},
   "outputs": [
    {
     "data": {
      "image/png": "[encoded data removed]",
      "text/plain": [
       "<Figure size 216x216 with 2 Axes>"
      ]
     },
     "metadata": {},
     "output_type": "display_data"
    },
    {
     "name": "stdout",
     "output_type": "stream",
     "text": [
      "True Positive: 4244\n",
      "True Negative: 4406\n",
      "False Positive: 708\n",
      "False Negative: 642\n"
     ]
    }
   ],
   "source": [
    "# Seaborn is a Python data visualization library built on top of Matplotlib.\n",
    "# The import seaborn portion of the code tells Python to bring the Seaborn library into your current environment.\n",
    "\n",
    "import seaborn as sns\n",
    "\n",
    "# we used whitegrid theme which is better suited to plots with heavy data elements.\n",
    "sns.set_style(\"whitegrid\")\n",
    "\n",
    "# Compute confusion matrix to evaluate the accuracy of a classification.\n",
    "from sklearn.metrics import confusion_matrix\n",
    "\n",
    "# Create a confusion matrix with scikit-learn\n",
    "y_pred = next_model.predict(x_test)\n",
    "y_pred = (y_pred > 0.5)\n",
    "cm = confusion_matrix(y_test,y_pred)\n",
    "\n",
    "df1 = pd.DataFrame(columns=[\"True\",\"False\"], index= [\"True\",\"False\"], data= cm ) \n",
    "\n",
    "# setting subplots, figure size\n",
    "f,ax = plt.subplots(figsize=(3,3))\n",
    "\n",
    "# Ploting rectangular data as a color-encoded matrix.\n",
    "sns.heatmap(df1, annot=True,cmap=\"Blues\", fmt= '.0f',ax=ax\n",
    "\n",
    "# setting plot xlable            \n",
    "plt.xlabel(\"Predicted Label\")\n",
    "\n",
    "# setting fontsize for xticks           \n",
    "plt.xticks(size = 12)\n",
    "\n",
    "# setting fontsize for yticks                       \n",
    "plt.yticks(size = 12, rotation = 0)\n",
    "            \n",
    "# setting plot ylable            \n",
    "plt.ylabel(\"True Label\")\n",
    "\n",
    "# setting plot title            \n",
    "plt.title(\"Confusion Matrix\", size = 14)\n",
    "            \n",
    "# showing plot            \n",
    "plt.show()\n",
    "\n",
    "print (\"True Positive:\" , (cm[0,0]))\n",
    "print (\"True Negative:\" , (cm[1,1]))\n",
    "print (\"False Positive:\" , (cm[0,1]))\n",
    "print (\"False Negative:\" , (cm[1,0]))"
   ]
  },
  {
   "cell_type": "code",
   "execution_count": 46,
   "metadata": {},
   "outputs": [
    {
     "name": "stdout",
     "output_type": "stream",
     "text": [
      "Correct Prediction: 8650\n",
      "Wrong Prediction: 1350\n",
      "Accuracy: 86.5\n"
     ]
    }
   ],
   "source": [
    "# checking correct and wrong predections and checking accuracy\n",
    "\n",
    "y_pred = (next_model.predict(x_test) > 0.5).astype(\"int32\")\n",
    "\n",
    "true = 0\n",
    "for i, y in enumerate(y_test):\n",
    "    if y == y_pred[i]:\n",
    "        true += 1\n",
    "\n",
    "print('Correct Prediction: {}'.format(true))\n",
    "print('Wrong Prediction: {}'.format(len(y_pred) - true))\n",
    "print('Accuracy: {}'.format(true/len(y_pred)*100))"
   ]
  },
  {
   "cell_type": "code",
   "execution_count": null,
   "metadata": {},
   "outputs": [],
   "source": []
  }
 ],
 "metadata": {
  "kernelspec": {
   "display_name": "Python 3",
   "language": "python",
   "name": "python3"
  },
  "language_info": {
   "codemirror_mode": {
    "name": "ipython",
    "version": 3
   },
   "file_extension": ".py",
   "mimetype": "text/x-python",
   "name": "python",
   "nbconvert_exporter": "python",
   "pygments_lexer": "ipython3",
   "version": "3.7.6"
  }
 },
 "nbformat": 4,
 "nbformat_minor": 2
}
