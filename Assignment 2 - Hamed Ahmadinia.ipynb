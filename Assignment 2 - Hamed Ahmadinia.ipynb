{
 "cells": [
  {
   "cell_type": "markdown",
   "id": "1aa0e307",
   "metadata": {},
   "source": [
    "# Assignment 2 - Unsupervised Learning"
   ]
  },
  {
   "cell_type": "markdown",
   "id": "10e6b4cb",
   "metadata": {},
   "source": [
    "#### Task 1 (3 points):\n",
    "\n",
    "1. Data normalization\n",
    "    - Look at features of Linnerud dataset, tell what is the problem with them\n",
    "          from sklearn.datasets import load_linnerud\n",
    "    - Normalize these features using a correct method. Plot original vs normalized probability density."
   ]
  },
  {
   "cell_type": "code",
   "execution_count": 1,
   "id": "e5f67877",
   "metadata": {},
   "outputs": [],
   "source": [
    "# importing required packages\n",
    "import pandas as pd\n",
    "import numpy as np\n",
    "import matplotlib.pyplot as plt\n",
    "pd.options.display.max_rows = 3000\n",
    "pd.set_option('display.width', 1200)\n",
    "%matplotlib inline "
   ]
  },
  {
   "cell_type": "code",
   "execution_count": 2,
   "id": "47677f6a",
   "metadata": {},
   "outputs": [
    {
     "data": {
      "text/html": [
       "<div>\n",
       "<style scoped>\n",
       "    .dataframe tbody tr th:only-of-type {\n",
       "        vertical-align: middle;\n",
       "    }\n",
       "\n",
       "    .dataframe tbody tr th {\n",
       "        vertical-align: top;\n",
       "    }\n",
       "\n",
       "    .dataframe thead th {\n",
       "        text-align: right;\n",
       "    }\n",
       "</style>\n",
       "<table border=\"1\" class=\"dataframe\">\n",
       "  <thead>\n",
       "    <tr style=\"text-align: right;\">\n",
       "      <th></th>\n",
       "      <th>Chins</th>\n",
       "      <th>Situps</th>\n",
       "      <th>Jumps</th>\n",
       "    </tr>\n",
       "  </thead>\n",
       "  <tbody>\n",
       "    <tr>\n",
       "      <th>0</th>\n",
       "      <td>5.0</td>\n",
       "      <td>162.0</td>\n",
       "      <td>60.0</td>\n",
       "    </tr>\n",
       "    <tr>\n",
       "      <th>1</th>\n",
       "      <td>2.0</td>\n",
       "      <td>110.0</td>\n",
       "      <td>60.0</td>\n",
       "    </tr>\n",
       "    <tr>\n",
       "      <th>2</th>\n",
       "      <td>12.0</td>\n",
       "      <td>101.0</td>\n",
       "      <td>101.0</td>\n",
       "    </tr>\n",
       "    <tr>\n",
       "      <th>3</th>\n",
       "      <td>12.0</td>\n",
       "      <td>105.0</td>\n",
       "      <td>37.0</td>\n",
       "    </tr>\n",
       "    <tr>\n",
       "      <th>4</th>\n",
       "      <td>13.0</td>\n",
       "      <td>155.0</td>\n",
       "      <td>58.0</td>\n",
       "    </tr>\n",
       "  </tbody>\n",
       "</table>\n",
       "</div>"
      ],
      "text/plain": [
       "   Chins  Situps  Jumps\n",
       "0    5.0   162.0   60.0\n",
       "1    2.0   110.0   60.0\n",
       "2   12.0   101.0  101.0\n",
       "3   12.0   105.0   37.0\n",
       "4   13.0   155.0   58.0"
      ]
     },
     "execution_count": 2,
     "metadata": {},
     "output_type": "execute_result"
    }
   ],
   "source": [
    "from sklearn.datasets import load_linnerud\n",
    "\n",
    "data = load_linnerud(as_frame=True)\n",
    "data.data.head()"
   ]
  },
  {
   "cell_type": "code",
   "execution_count": 3,
   "id": "92809e0d",
   "metadata": {},
   "outputs": [
    {
     "data": {
      "text/html": [
       "<div>\n",
       "<style scoped>\n",
       "    .dataframe tbody tr th:only-of-type {\n",
       "        vertical-align: middle;\n",
       "    }\n",
       "\n",
       "    .dataframe tbody tr th {\n",
       "        vertical-align: top;\n",
       "    }\n",
       "\n",
       "    .dataframe thead th {\n",
       "        text-align: right;\n",
       "    }\n",
       "</style>\n",
       "<table border=\"1\" class=\"dataframe\">\n",
       "  <thead>\n",
       "    <tr style=\"text-align: right;\">\n",
       "      <th></th>\n",
       "      <th>Weight</th>\n",
       "      <th>Waist</th>\n",
       "      <th>Pulse</th>\n",
       "    </tr>\n",
       "  </thead>\n",
       "  <tbody>\n",
       "    <tr>\n",
       "      <th>0</th>\n",
       "      <td>191.0</td>\n",
       "      <td>36.0</td>\n",
       "      <td>50.0</td>\n",
       "    </tr>\n",
       "    <tr>\n",
       "      <th>1</th>\n",
       "      <td>189.0</td>\n",
       "      <td>37.0</td>\n",
       "      <td>52.0</td>\n",
       "    </tr>\n",
       "    <tr>\n",
       "      <th>2</th>\n",
       "      <td>193.0</td>\n",
       "      <td>38.0</td>\n",
       "      <td>58.0</td>\n",
       "    </tr>\n",
       "    <tr>\n",
       "      <th>3</th>\n",
       "      <td>162.0</td>\n",
       "      <td>35.0</td>\n",
       "      <td>62.0</td>\n",
       "    </tr>\n",
       "    <tr>\n",
       "      <th>4</th>\n",
       "      <td>189.0</td>\n",
       "      <td>35.0</td>\n",
       "      <td>46.0</td>\n",
       "    </tr>\n",
       "  </tbody>\n",
       "</table>\n",
       "</div>"
      ],
      "text/plain": [
       "   Weight  Waist  Pulse\n",
       "0   191.0   36.0   50.0\n",
       "1   189.0   37.0   52.0\n",
       "2   193.0   38.0   58.0\n",
       "3   162.0   35.0   62.0\n",
       "4   189.0   35.0   46.0"
      ]
     },
     "execution_count": 3,
     "metadata": {},
     "output_type": "execute_result"
    }
   ],
   "source": [
    "data.target.head()"
   ]
  },
  {
   "cell_type": "code",
   "execution_count": 4,
   "id": "36c12008",
   "metadata": {},
   "outputs": [
    {
     "data": {
      "text/html": [
       "<div>\n",
       "<style scoped>\n",
       "    .dataframe tbody tr th:only-of-type {\n",
       "        vertical-align: middle;\n",
       "    }\n",
       "\n",
       "    .dataframe tbody tr th {\n",
       "        vertical-align: top;\n",
       "    }\n",
       "\n",
       "    .dataframe thead th {\n",
       "        text-align: right;\n",
       "    }\n",
       "</style>\n",
       "<table border=\"1\" class=\"dataframe\">\n",
       "  <thead>\n",
       "    <tr style=\"text-align: right;\">\n",
       "      <th></th>\n",
       "      <th>Chins</th>\n",
       "      <th>Situps</th>\n",
       "      <th>Jumps</th>\n",
       "    </tr>\n",
       "  </thead>\n",
       "  <tbody>\n",
       "    <tr>\n",
       "      <th>Chins</th>\n",
       "      <td>1.000000</td>\n",
       "      <td>0.695727</td>\n",
       "      <td>0.495760</td>\n",
       "    </tr>\n",
       "    <tr>\n",
       "      <th>Situps</th>\n",
       "      <td>0.695727</td>\n",
       "      <td>1.000000</td>\n",
       "      <td>0.669206</td>\n",
       "    </tr>\n",
       "    <tr>\n",
       "      <th>Jumps</th>\n",
       "      <td>0.495760</td>\n",
       "      <td>0.669206</td>\n",
       "      <td>1.000000</td>\n",
       "    </tr>\n",
       "  </tbody>\n",
       "</table>\n",
       "</div>"
      ],
      "text/plain": [
       "           Chins    Situps     Jumps\n",
       "Chins   1.000000  0.695727  0.495760\n",
       "Situps  0.695727  1.000000  0.669206\n",
       "Jumps   0.495760  0.669206  1.000000"
      ]
     },
     "execution_count": 4,
     "metadata": {},
     "output_type": "execute_result"
    }
   ],
   "source": [
    "data.data.corr()"
   ]
  },
  {
   "cell_type": "code",
   "execution_count": 5,
   "id": "de4262b5",
   "metadata": {},
   "outputs": [
    {
     "data": {
      "text/plain": [
       "(20, 3)"
      ]
     },
     "execution_count": 5,
     "metadata": {},
     "output_type": "execute_result"
    }
   ],
   "source": [
    "data.data.shape"
   ]
  },
  {
   "cell_type": "code",
   "execution_count": 6,
   "id": "b4bb322c",
   "metadata": {},
   "outputs": [
    {
     "data": {
      "text/plain": [
       "[<matplotlib.lines.Line2D at 0x231155b54c8>]"
      ]
     },
     "execution_count": 6,
     "metadata": {},
     "output_type": "execute_result"
    },
    {
     "data": {
      "image/png": "[encoded data removed]",
      "text/plain": [
       "<Figure size 1440x648 with 1 Axes>"
      ]
     },
     "metadata": {
      "needs_background": "light"
     },
     "output_type": "display_data"
    }
   ],
   "source": [
    "plt.figure(figsize=(20,9))\n",
    "plt.plot(data.data.Chins, color='red')\n",
    "plt.plot(data.data.Situps, color='blue')\n",
    "plt.plot(data.data.Jumps, color='green')"
   ]
  },
  {
   "cell_type": "code",
   "execution_count": 7,
   "id": "dee09606",
   "metadata": {},
   "outputs": [
    {
     "data": {
      "text/plain": [
       "array([[-0.86367072,  0.26975016, -0.20608616],\n",
       "       [-1.44592064, -0.58295552, -0.20608616],\n",
       "       [ 0.49491243, -0.7305392 ,  0.61425681],\n",
       "       [ 0.49491243, -0.66494645, -0.66627856],\n",
       "       [ 0.68899574,  0.15496286, -0.24610289],\n",
       "       [-1.05775403, -0.7305392 , -0.56623674],\n",
       "       [-0.2814208 , -0.7305392 , -0.6462702 ],\n",
       "       [-0.66958741, -0.33698273, -0.60625347],\n",
       "       [ 1.07716236,  0.89288124, -0.60625347],\n",
       "       [ 1.46532897,  1.72918874,  3.59550323],\n",
       "       [ 1.46532897, -0.41897366, -0.6462702 ],\n",
       "       [ 0.68899574,  1.0568631 ,  0.89437393],\n",
       "       [ 0.88307905,  1.13885404,  0.69429027],\n",
       "       [-1.64000395, -1.5668467 , -0.40616981],\n",
       "       [-0.66958741, -1.23888297, -0.78632875],\n",
       "       [ 0.49491243,  1.0568631 ,  0.99441575],\n",
       "       [-1.05775403, -1.40286484, -0.90637895],\n",
       "       [ 0.30082913,  1.38482683,  0.19408114],\n",
       "       [ 1.07716236,  1.3028359 ,  0.05402259],\n",
       "       [-1.44592064, -0.58295552, -0.54622837]])"
      ]
     },
     "execution_count": 7,
     "metadata": {},
     "output_type": "execute_result"
    }
   ],
   "source": [
    "from sklearn.preprocessing import StandardScaler\n",
    "\n",
    "scaler = StandardScaler()\n",
    "standard_data = scaler.fit_transform(data.data)\n",
    "standard_data"
   ]
  },
  {
   "cell_type": "code",
   "execution_count": 8,
   "id": "22dfa25c",
   "metadata": {},
   "outputs": [
    {
     "data": {
      "text/plain": [
       "<AxesSubplot:xlabel='Chins', ylabel='Density'>"
      ]
     },
     "execution_count": 8,
     "metadata": {},
     "output_type": "execute_result"
    },
    {
     "data": {
      "image/png": "[encoded data removed]",
      "text/plain": [
       "<Figure size 1440x648 with 1 Axes>"
      ]
     },
     "metadata": {
      "needs_background": "light"
     },
     "output_type": "display_data"
    }
   ],
   "source": [
    "import seaborn as sns\n",
    "\n",
    "plt.figure(figsize=(20,9))\n",
    "sns.kdeplot(data.data.Chins, color='red')\n",
    "sns.kdeplot(data.data.Situps, color='blue')\n",
    "sns.kdeplot(data.data.Jumps, color='green')"
   ]
  },
  {
   "cell_type": "code",
   "execution_count": 9,
   "id": "fb2ec52c",
   "metadata": {},
   "outputs": [
    {
     "data": {
      "text/plain": [
       "<AxesSubplot:xlabel='Jumps', ylabel='Density'>"
      ]
     },
     "execution_count": 9,
     "metadata": {},
     "output_type": "execute_result"
    },
    {
     "data": {
      "image/png": "[encoded data removed]",
      "text/plain": [
       "<Figure size 1440x648 with 1 Axes>"
      ]
     },
     "metadata": {
      "needs_background": "light"
     },
     "output_type": "display_data"
    }
   ],
   "source": [
    "plt.figure(figsize=(20,9))\n",
    "sns.kdeplot(data.data.Jumps)\n",
    "sns.kdeplot(standard_data[:,2])"
   ]
  },
  {
   "cell_type": "code",
   "execution_count": 10,
   "id": "f1567aac",
   "metadata": {},
   "outputs": [
    {
     "data": {
      "text/plain": [
       "<AxesSubplot:xlabel='Situps', ylabel='Density'>"
      ]
     },
     "execution_count": 10,
     "metadata": {},
     "output_type": "execute_result"
    },
    {
     "data": {
      "image/png": "[encoded data removed]",
      "text/plain": [
       "<Figure size 1440x648 with 1 Axes>"
      ]
     },
     "metadata": {
      "needs_background": "light"
     },
     "output_type": "display_data"
    }
   ],
   "source": [
    "plt.figure(figsize=(20,9))\n",
    "sns.kdeplot(data.data.Situps)\n",
    "sns.kdeplot(standard_data[:,1])"
   ]
  },
  {
   "cell_type": "markdown",
   "id": "35bc985c",
   "metadata": {},
   "source": [
    "#### Task 2 (4 points):  \n",
    "2. Dimensionality reduction\n",
    "    - Load 20 News Dataset\n",
    "          from sklearn.datasets import fetch_20newsgroups_vectorized\n",
    "          data = fetch_20newsgroups_vectorized(subset='train')\n",
    "    - Use KernelPCA for dimensionality reduction. Train a classifier at different nr of dimensions, check how model score changes with dimensions\n",
    "          Remember that you can load training and testing subsets of data!"
   ]
  },
  {
   "cell_type": "code",
   "execution_count": 11,
   "id": "d225c91c",
   "metadata": {},
   "outputs": [],
   "source": [
    "from sklearn.datasets import fetch_20newsgroups_vectorized\n",
    "train = fetch_20newsgroups_vectorized(subset='train',as_frame=True, normalize=True)"
   ]
  },
  {
   "cell_type": "code",
   "execution_count": 12,
   "id": "a242334b",
   "metadata": {},
   "outputs": [
    {
     "data": {
      "text/html": [
       "<div>\n",
       "<style scoped>\n",
       "    .dataframe tbody tr th:only-of-type {\n",
       "        vertical-align: middle;\n",
       "    }\n",
       "\n",
       "    .dataframe tbody tr th {\n",
       "        vertical-align: top;\n",
       "    }\n",
       "\n",
       "    .dataframe thead th {\n",
       "        text-align: right;\n",
       "    }\n",
       "</style>\n",
       "<table border=\"1\" class=\"dataframe\">\n",
       "  <thead>\n",
       "    <tr style=\"text-align: right;\">\n",
       "      <th></th>\n",
       "      <th>00</th>\n",
       "      <th>000</th>\n",
       "      <th>0000</th>\n",
       "      <th>00000</th>\n",
       "      <th>000000</th>\n",
       "      <th>00000000</th>\n",
       "      <th>0000000004</th>\n",
       "      <th>0000000005</th>\n",
       "      <th>00000000b</th>\n",
       "      <th>00000001</th>\n",
       "      <th>...</th>\n",
       "      <th>çon</th>\n",
       "      <th>ère</th>\n",
       "      <th>ée</th>\n",
       "      <th>égligent</th>\n",
       "      <th>élangea</th>\n",
       "      <th>érale</th>\n",
       "      <th>ête</th>\n",
       "      <th>íålittin</th>\n",
       "      <th>ñaustin</th>\n",
       "      <th>ýé</th>\n",
       "    </tr>\n",
       "  </thead>\n",
       "  <tbody>\n",
       "    <tr>\n",
       "      <th>0</th>\n",
       "      <td>0.0</td>\n",
       "      <td>0.0</td>\n",
       "      <td>0.0</td>\n",
       "      <td>0.0</td>\n",
       "      <td>0.0</td>\n",
       "      <td>0.0</td>\n",
       "      <td>0.0</td>\n",
       "      <td>0.0</td>\n",
       "      <td>0.0</td>\n",
       "      <td>0.0</td>\n",
       "      <td>...</td>\n",
       "      <td>0.0</td>\n",
       "      <td>0.0</td>\n",
       "      <td>0.0</td>\n",
       "      <td>0.0</td>\n",
       "      <td>0.0</td>\n",
       "      <td>0.0</td>\n",
       "      <td>0.0</td>\n",
       "      <td>0.0</td>\n",
       "      <td>0.0</td>\n",
       "      <td>0.0</td>\n",
       "    </tr>\n",
       "    <tr>\n",
       "      <th>1</th>\n",
       "      <td>0.0</td>\n",
       "      <td>0.0</td>\n",
       "      <td>0.0</td>\n",
       "      <td>0.0</td>\n",
       "      <td>0.0</td>\n",
       "      <td>0.0</td>\n",
       "      <td>0.0</td>\n",
       "      <td>0.0</td>\n",
       "      <td>0.0</td>\n",
       "      <td>0.0</td>\n",
       "      <td>...</td>\n",
       "      <td>0.0</td>\n",
       "      <td>0.0</td>\n",
       "      <td>0.0</td>\n",
       "      <td>0.0</td>\n",
       "      <td>0.0</td>\n",
       "      <td>0.0</td>\n",
       "      <td>0.0</td>\n",
       "      <td>0.0</td>\n",
       "      <td>0.0</td>\n",
       "      <td>0.0</td>\n",
       "    </tr>\n",
       "    <tr>\n",
       "      <th>2</th>\n",
       "      <td>0.0</td>\n",
       "      <td>0.0</td>\n",
       "      <td>0.0</td>\n",
       "      <td>0.0</td>\n",
       "      <td>0.0</td>\n",
       "      <td>0.0</td>\n",
       "      <td>0.0</td>\n",
       "      <td>0.0</td>\n",
       "      <td>0.0</td>\n",
       "      <td>0.0</td>\n",
       "      <td>...</td>\n",
       "      <td>0.0</td>\n",
       "      <td>0.0</td>\n",
       "      <td>0.0</td>\n",
       "      <td>0.0</td>\n",
       "      <td>0.0</td>\n",
       "      <td>0.0</td>\n",
       "      <td>0.0</td>\n",
       "      <td>0.0</td>\n",
       "      <td>0.0</td>\n",
       "      <td>0.0</td>\n",
       "    </tr>\n",
       "    <tr>\n",
       "      <th>3</th>\n",
       "      <td>0.0</td>\n",
       "      <td>0.0</td>\n",
       "      <td>0.0</td>\n",
       "      <td>0.0</td>\n",
       "      <td>0.0</td>\n",
       "      <td>0.0</td>\n",
       "      <td>0.0</td>\n",
       "      <td>0.0</td>\n",
       "      <td>0.0</td>\n",
       "      <td>0.0</td>\n",
       "      <td>...</td>\n",
       "      <td>0.0</td>\n",
       "      <td>0.0</td>\n",
       "      <td>0.0</td>\n",
       "      <td>0.0</td>\n",
       "      <td>0.0</td>\n",
       "      <td>0.0</td>\n",
       "      <td>0.0</td>\n",
       "      <td>0.0</td>\n",
       "      <td>0.0</td>\n",
       "      <td>0.0</td>\n",
       "    </tr>\n",
       "    <tr>\n",
       "      <th>4</th>\n",
       "      <td>0.0</td>\n",
       "      <td>0.0</td>\n",
       "      <td>0.0</td>\n",
       "      <td>0.0</td>\n",
       "      <td>0.0</td>\n",
       "      <td>0.0</td>\n",
       "      <td>0.0</td>\n",
       "      <td>0.0</td>\n",
       "      <td>0.0</td>\n",
       "      <td>0.0</td>\n",
       "      <td>...</td>\n",
       "      <td>0.0</td>\n",
       "      <td>0.0</td>\n",
       "      <td>0.0</td>\n",
       "      <td>0.0</td>\n",
       "      <td>0.0</td>\n",
       "      <td>0.0</td>\n",
       "      <td>0.0</td>\n",
       "      <td>0.0</td>\n",
       "      <td>0.0</td>\n",
       "      <td>0.0</td>\n",
       "    </tr>\n",
       "  </tbody>\n",
       "</table>\n",
       "<p>5 rows × 130107 columns</p>\n",
       "</div>"
      ],
      "text/plain": [
       "    00  000  0000  00000  000000  00000000  0000000004  0000000005  00000000b  00000001  ...  çon  ère   ée  égligent  élangea  érale  ête  íålittin  ñaustin   ýé\n",
       "0  0.0  0.0   0.0    0.0     0.0       0.0         0.0         0.0        0.0       0.0  ...  0.0  0.0  0.0       0.0      0.0    0.0  0.0       0.0      0.0  0.0\n",
       "1  0.0  0.0   0.0    0.0     0.0       0.0         0.0         0.0        0.0       0.0  ...  0.0  0.0  0.0       0.0      0.0    0.0  0.0       0.0      0.0  0.0\n",
       "2  0.0  0.0   0.0    0.0     0.0       0.0         0.0         0.0        0.0       0.0  ...  0.0  0.0  0.0       0.0      0.0    0.0  0.0       0.0      0.0  0.0\n",
       "3  0.0  0.0   0.0    0.0     0.0       0.0         0.0         0.0        0.0       0.0  ...  0.0  0.0  0.0       0.0      0.0    0.0  0.0       0.0      0.0  0.0\n",
       "4  0.0  0.0   0.0    0.0     0.0       0.0         0.0         0.0        0.0       0.0  ...  0.0  0.0  0.0       0.0      0.0    0.0  0.0       0.0      0.0  0.0\n",
       "\n",
       "[5 rows x 130107 columns]"
      ]
     },
     "execution_count": 12,
     "metadata": {},
     "output_type": "execute_result"
    }
   ],
   "source": [
    "train.data.head()"
   ]
  },
  {
   "cell_type": "code",
   "execution_count": 13,
   "id": "9dc8aa65",
   "metadata": {},
   "outputs": [
    {
     "data": {
      "text/plain": [
       "0    17\n",
       "1     7\n",
       "2    10\n",
       "3    10\n",
       "4     7\n",
       "Name: category_class, dtype: int32"
      ]
     },
     "execution_count": 13,
     "metadata": {},
     "output_type": "execute_result"
    }
   ],
   "source": [
    "train.target.head()"
   ]
  },
  {
   "cell_type": "code",
   "execution_count": 14,
   "id": "10a66329",
   "metadata": {},
   "outputs": [
    {
     "data": {
      "text/plain": [
       "(11314, 130107)"
      ]
     },
     "execution_count": 14,
     "metadata": {},
     "output_type": "execute_result"
    }
   ],
   "source": [
    "train.data.shape"
   ]
  },
  {
   "cell_type": "code",
   "execution_count": 15,
   "id": "0faceee0",
   "metadata": {},
   "outputs": [
    {
     "name": "stdout",
     "output_type": "stream",
     "text": [
      "              precision    recall  f1-score   support\n",
      "\n",
      "           0       0.70      0.66      0.68       319\n",
      "           1       0.53      0.69      0.60       389\n",
      "           2       0.67      0.76      0.71       394\n",
      "           3       0.66      0.64      0.65       392\n",
      "           4       0.75      0.76      0.75       385\n",
      "           5       0.76      0.71      0.74       395\n",
      "           6       0.72      0.91      0.80       390\n",
      "           7       0.80      0.81      0.80       396\n",
      "           8       0.89      0.89      0.89       398\n",
      "           9       0.83      0.92      0.87       397\n",
      "          10       0.90      0.93      0.92       399\n",
      "          11       0.89      0.91      0.90       396\n",
      "          12       0.69      0.48      0.57       393\n",
      "          13       0.84      0.66      0.74       396\n",
      "          14       0.84      0.88      0.86       394\n",
      "          15       0.68      0.92      0.79       398\n",
      "          16       0.65      0.85      0.74       364\n",
      "          17       0.95      0.80      0.87       376\n",
      "          18       0.83      0.48      0.61       310\n",
      "          19       0.81      0.30      0.44       251\n",
      "\n",
      "    accuracy                           0.76      7532\n",
      "   macro avg       0.77      0.75      0.75      7532\n",
      "weighted avg       0.77      0.76      0.75      7532\n",
      "\n"
     ]
    }
   ],
   "source": [
    "from sklearn.ensemble import RandomForestClassifier\n",
    "from sklearn.metrics import classification_report\n",
    "\n",
    "test = fetch_20newsgroups_vectorized(subset='test', as_frame=True, normalize=True)\n",
    "\n",
    "print(classification_report(test.target, RandomForestClassifier().fit(train.data, train.target).predict(test.data)))"
   ]
  },
  {
   "cell_type": "code",
   "execution_count": 16,
   "id": "345c851c",
   "metadata": {},
   "outputs": [],
   "source": [
    "from sklearn.decomposition import PCA\n",
    "\n",
    "pca = PCA(n_components=200)\n",
    "train_pca = pca.fit_transform(train.data.values)"
   ]
  },
  {
   "cell_type": "code",
   "execution_count": 17,
   "id": "2ee0cbe3",
   "metadata": {},
   "outputs": [
    {
     "data": {
      "text/plain": [
       "(11314, 200)"
      ]
     },
     "execution_count": 17,
     "metadata": {},
     "output_type": "execute_result"
    }
   ],
   "source": [
    "train_pca.shape"
   ]
  },
  {
   "cell_type": "code",
   "execution_count": 18,
   "id": "24cd63cd",
   "metadata": {},
   "outputs": [
    {
     "name": "stdout",
     "output_type": "stream",
     "text": [
      "              precision    recall  f1-score   support\n",
      "\n",
      "           0       0.40      0.28      0.33       319\n",
      "           1       0.33      0.40      0.36       389\n",
      "           2       0.47      0.52      0.49       394\n",
      "           3       0.38      0.37      0.38       392\n",
      "           4       0.41      0.40      0.41       385\n",
      "           5       0.42      0.42      0.42       395\n",
      "           6       0.61      0.73      0.67       390\n",
      "           7       0.47      0.51      0.49       396\n",
      "           8       0.48      0.59      0.53       398\n",
      "           9       0.40      0.40      0.40       397\n",
      "          10       0.57      0.67      0.61       399\n",
      "          11       0.64      0.57      0.60       396\n",
      "          12       0.26      0.22      0.24       393\n",
      "          13       0.33      0.26      0.29       396\n",
      "          14       0.62      0.59      0.61       394\n",
      "          15       0.40      0.65      0.50       398\n",
      "          16       0.47      0.49      0.48       364\n",
      "          17       0.74      0.64      0.69       376\n",
      "          18       0.42      0.27      0.33       310\n",
      "          19       0.48      0.14      0.21       251\n",
      "\n",
      "    accuracy                           0.47      7532\n",
      "   macro avg       0.46      0.46      0.45      7532\n",
      "weighted avg       0.47      0.47      0.46      7532\n",
      "\n"
     ]
    }
   ],
   "source": [
    "test_pca = pca.transform(test.data.values)\n",
    "\n",
    "print(classification_report(test.target, RandomForestClassifier().fit(train_pca, train.target).predict(test_pca)))"
   ]
  },
  {
   "cell_type": "code",
   "execution_count": 19,
   "id": "f6f8a9ca",
   "metadata": {},
   "outputs": [
    {
     "data": {
      "text/plain": [
       "0.4822166100445249"
      ]
     },
     "execution_count": 19,
     "metadata": {},
     "output_type": "execute_result"
    }
   ],
   "source": [
    "np.sum(pca.explained_variance_ratio_)"
   ]
  },
  {
   "cell_type": "code",
   "execution_count": 20,
   "id": "c0d76b2a",
   "metadata": {},
   "outputs": [
    {
     "name": "stdout",
     "output_type": "stream",
     "text": [
      "              precision    recall  f1-score   support\n",
      "\n",
      "           0       0.36      0.32      0.34       319\n",
      "           1       0.29      0.38      0.33       389\n",
      "           2       0.49      0.53      0.51       394\n",
      "           3       0.38      0.36      0.37       392\n",
      "           4       0.39      0.39      0.39       385\n",
      "           5       0.46      0.42      0.44       395\n",
      "           6       0.54      0.68      0.60       390\n",
      "           7       0.48      0.48      0.48       396\n",
      "           8       0.50      0.54      0.52       398\n",
      "           9       0.44      0.40      0.42       397\n",
      "          10       0.62      0.70      0.66       399\n",
      "          11       0.62      0.58      0.60       396\n",
      "          12       0.23      0.19      0.21       393\n",
      "          13       0.30      0.26      0.28       396\n",
      "          14       0.62      0.59      0.61       394\n",
      "          15       0.38      0.72      0.50       398\n",
      "          16       0.50      0.49      0.49       364\n",
      "          17       0.77      0.58      0.66       376\n",
      "          18       0.52      0.31      0.39       310\n",
      "          19       0.43      0.14      0.21       251\n",
      "\n",
      "    accuracy                           0.46      7532\n",
      "   macro avg       0.47      0.45      0.45      7532\n",
      "weighted avg       0.47      0.46      0.46      7532\n",
      "\n",
      "0.5360817106193191\n"
     ]
    }
   ],
   "source": [
    "pca = PCA(n_components=300)\n",
    "train_pca = pca.fit_transform(train.data.values)\n",
    "test_pca = pca.transform(test.data.values)\n",
    "\n",
    "print(classification_report(test.target, RandomForestClassifier().fit(train_pca, train.target).predict(test_pca)))\n",
    "print(np.sum(pca.explained_variance_ratio_))"
   ]
  },
  {
   "cell_type": "code",
   "execution_count": 29,
   "id": "946e965b",
   "metadata": {},
   "outputs": [],
   "source": [
    "# it is good a idea to use variance ratio instead of n_components\n",
    "# but it takes too much time of running :(\n",
    "pca = PCA(0.9)"
   ]
  },
  {
   "cell_type": "markdown",
   "id": "98c697d5",
   "metadata": {},
   "source": [
    "#### Task 3 (8 points):\n",
    "Clustering\n",
    "Cluster 20 News Dataset into 20 clusters. Print true class vs cluster distribution.\n",
    "Did you manage to recover the original clusters?  (give students an example plot)"
   ]
  },
  {
   "cell_type": "code",
   "execution_count": 25,
   "id": "9ad1420e",
   "metadata": {},
   "outputs": [
    {
     "data": {
      "text/plain": [
       "['alt.atheism',\n",
       " 'comp.graphics',\n",
       " 'comp.os.ms-windows.misc',\n",
       " 'comp.sys.ibm.pc.hardware',\n",
       " 'comp.sys.mac.hardware',\n",
       " 'comp.windows.x',\n",
       " 'misc.forsale',\n",
       " 'rec.autos',\n",
       " 'rec.motorcycles',\n",
       " 'rec.sport.baseball',\n",
       " 'rec.sport.hockey',\n",
       " 'sci.crypt',\n",
       " 'sci.electronics',\n",
       " 'sci.med',\n",
       " 'sci.space',\n",
       " 'soc.religion.christian',\n",
       " 'talk.politics.guns',\n",
       " 'talk.politics.mideast',\n",
       " 'talk.politics.misc',\n",
       " 'talk.religion.misc']"
      ]
     },
     "execution_count": 25,
     "metadata": {},
     "output_type": "execute_result"
    }
   ],
   "source": [
    "train.target_names"
   ]
  },
  {
   "cell_type": "code",
   "execution_count": 26,
   "id": "225b8a33",
   "metadata": {},
   "outputs": [
    {
     "data": {
      "text/plain": [
       "KMeans(max_iter=400, n_clusters=20, n_init=1, random_state=41)"
      ]
     },
     "execution_count": 26,
     "metadata": {},
     "output_type": "execute_result"
    }
   ],
   "source": [
    "from sklearn.cluster import KMeans\n",
    "km = KMeans(n_clusters=20, init='k-means++', max_iter=400, n_init=1, random_state=41)\n",
    "km.fit(train.data)"
   ]
  },
  {
   "cell_type": "code",
   "execution_count": 27,
   "id": "f8881905",
   "metadata": {},
   "outputs": [
    {
     "data": {
      "text/plain": [
       "<AxesSubplot:>"
      ]
     },
     "execution_count": 27,
     "metadata": {},
     "output_type": "execute_result"
    },
    {
     "data": {
      "image/png": "[encoded data removed]",
      "text/plain": [
       "<Figure size 432x288 with 2 Axes>"
      ]
     },
     "metadata": {
      "needs_background": "light"
     },
     "output_type": "display_data"
    }
   ],
   "source": [
    "from sklearn.metrics import confusion_matrix\n",
    "import seaborn as sn\n",
    "\n",
    "cm = confusion_matrix(train.target, km.labels_)\n",
    "sn.heatmap(cm, yticklabels=train.target_names, \n",
    "           xticklabels=[\"cluster {}\".format(i) for i in range(20)])"
   ]
  },
  {
   "cell_type": "code",
   "execution_count": null,
   "id": "9007ae6d",
   "metadata": {},
   "outputs": [],
   "source": []
  }
 ],
 "metadata": {
  "kernelspec": {
   "display_name": "Python 3 (ipykernel)",
   "language": "python",
   "name": "python3"
  },
  "language_info": {
   "codemirror_mode": {
    "name": "ipython",
    "version": 3
   },
   "file_extension": ".py",
   "mimetype": "text/x-python",
   "name": "python",
   "nbconvert_exporter": "python",
   "pygments_lexer": "ipython3",
   "version": "3.7.10"
  }
 },
 "nbformat": 4,
 "nbformat_minor": 5
}
